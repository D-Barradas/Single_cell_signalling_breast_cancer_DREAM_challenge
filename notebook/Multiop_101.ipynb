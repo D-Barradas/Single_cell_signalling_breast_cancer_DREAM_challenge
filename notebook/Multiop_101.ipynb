{
 "cells": [
  {
   "cell_type": "code",
   "execution_count": 2,
   "metadata": {},
   "outputs": [],
   "source": [
    "my_list = [\n",
    "    '184B5.csv',\n",
    "'BT483.csv',\n",
    "'HCC1428.csv',\n",
    "'HCC1806.csv',\n",
    "'HCC202.csv',\n",
    "'Hs578T.csv',\n",
    "'MCF12A.csv',\n",
    "'MDAMB231.csv',\n",
    "'MDAMB468.csv',\n",
    "'SKBR3.csv',\n",
    "'UACC3199.csv',\n",
    "'ZR751.csv',\n",
    "]"
   ]
  },
  {
   "cell_type": "code",
   "execution_count": 3,
   "metadata": {},
   "outputs": [],
   "source": [
    "import os, sys \n",
    "# from dask_ml.model_selection import train_test_split, RandomizedSearchCV\n",
    "import dask.dataframe as dd\n",
    "# from dask_ml.xgboost import XGBRegressor\n",
    "import joblib\n",
    "from dask.diagnostics import ProgressBar\n",
    "# from dask_ml.preprocessing import StandardScaler\n",
    "from sklearn.preprocessing import StandardScaler\n",
    "import pandas as pd\n",
    "import numpy as np\n",
    "from sklearn.model_selection import KFold , cross_val_predict , cross_val_score ,train_test_split\n",
    "from sklearn.metrics import mean_absolute_error,mean_squared_error,r2_score,classification_report, confusion_matrix,accuracy_score,matthews_corrcoef\n",
    "from sklearn.ensemble import RandomForestClassifier,RandomForestRegressor\n",
    "from sklearn.multioutput import MultiOutputRegressor\n",
    "# from dask.distributed import Client"
   ]
  },
  {
   "cell_type": "code",
   "execution_count": 4,
   "metadata": {},
   "outputs": [],
   "source": [
    "np.random.seed(seed = 101)"
   ]
  },
  {
   "cell_type": "code",
   "execution_count": 5,
   "metadata": {},
   "outputs": [],
   "source": [
    "df= pd.DataFrame()\n",
    "# for x in os.listdir(\"data\"):\n",
    "for x in my_list:\n",
    "#     print (x)\n",
    "    df_temp = dd.read_csv(\"data/%s\"%(x) )  #,dtype=dtype)\n",
    "    df = dd.concat([df,df_temp],axis=0)"
   ]
  },
  {
   "cell_type": "code",
   "execution_count": 6,
   "metadata": {},
   "outputs": [],
   "source": [
    "df = df.categorize(columns=[\"time\",\"treatment\"])"
   ]
  },
  {
   "cell_type": "code",
   "execution_count": 7,
   "metadata": {},
   "outputs": [],
   "source": [
    "my_dummies_treatment = dd.get_dummies(df[\"treatment\"])"
   ]
  },
  {
   "cell_type": "code",
   "execution_count": 8,
   "metadata": {},
   "outputs": [],
   "source": [
    "my_dummies_time = dd.get_dummies(df[\"time\"])"
   ]
  },
  {
   "cell_type": "code",
   "execution_count": 9,
   "metadata": {},
   "outputs": [
    {
     "name": "stdout",
     "output_type": "stream",
     "text": [
      "filling NA\n"
     ]
    }
   ],
   "source": [
    "print (\"filling NA\")\n",
    "# y = y.compute()\n",
    "with ProgressBar():\n",
    "    for m in [\"p.HER2\",\"p.PLCg2\"] :\n",
    "#         print (df[m])\n",
    "        \n",
    "        df[\"%s_c\"%(m)] =df[m].fillna(df[m].mean() )#, inplace=True )"
   ]
  },
  {
   "cell_type": "code",
   "execution_count": 10,
   "metadata": {},
   "outputs": [],
   "source": [
    "df = df.drop(['p.HER2','p.PLCg2','cell_line','time','treatment','cellID','fileID'],axis=1)"
   ]
  },
  {
   "cell_type": "code",
   "execution_count": 11,
   "metadata": {},
   "outputs": [
    {
     "name": "stdout",
     "output_type": "stream",
     "text": [
      "[########################################] | 100% Completed | 11.8s\n",
      "[########################################] | 100% Completed | 12.0s\n",
      "[########################################] | 100% Completed | 11.7s\n",
      "[########################################] | 100% Completed | 12.1s\n"
     ]
    }
   ],
   "source": [
    "with ProgressBar():\n",
    "    scaler = StandardScaler()\n",
    "    scaler.fit(df)\n",
    "    scaled_data = scaler.transform(df)"
   ]
  },
  {
   "cell_type": "code",
   "execution_count": 13,
   "metadata": {},
   "outputs": [],
   "source": [
    "scaled_data = pd.DataFrame(scaled_data,columns=df.columns)  #,index=my_dummies_time.index)"
   ]
  },
  {
   "cell_type": "code",
   "execution_count": 14,
   "metadata": {},
   "outputs": [
    {
     "name": "stdout",
     "output_type": "stream",
     "text": [
      "[########################################] | 100% Completed |  9.1s\n",
      "[########################################] | 100% Completed |  9.1s\n"
     ]
    }
   ],
   "source": [
    "with ProgressBar():\n",
    "#     scaled_data = scaled_data.compute()\n",
    "    my_dummies_treatment = my_dummies_treatment.compute()\n",
    "    my_dummies_time = my_dummies_time.compute()"
   ]
  },
  {
   "cell_type": "code",
   "execution_count": 15,
   "metadata": {},
   "outputs": [],
   "source": [
    "my_dummies_treatment.reset_index(drop=True,inplace=True)\n",
    "my_dummies_time.reset_index(drop=True,inplace=True)"
   ]
  },
  {
   "cell_type": "code",
   "execution_count": 16,
   "metadata": {},
   "outputs": [],
   "source": [
    "### concating \n",
    "scaled_data = pd.concat([scaled_data,my_dummies_treatment,my_dummies_time],axis=1)"
   ]
  },
  {
   "cell_type": "code",
   "execution_count": 17,
   "metadata": {},
   "outputs": [],
   "source": [
    "my_dummies_treatment = pd.DataFrame()\n",
    "my_dummies_time = pd.DataFrame()"
   ]
  },
  {
   "cell_type": "code",
   "execution_count": 18,
   "metadata": {},
   "outputs": [
    {
     "name": "stdout",
     "output_type": "stream",
     "text": [
      "[########################################] | 100% Completed | 15.1s\n"
     ]
    }
   ],
   "source": [
    "with ProgressBar():\n",
    "    df = df.compute()"
   ]
  },
  {
   "cell_type": "code",
   "execution_count": null,
   "metadata": {},
   "outputs": [],
   "source": [
    "# genes= ['b.CATENIN','cleavedCas','CyclinB','GAPDH','IdU','Ki.67','p.4EBP1','p.Akt.Ser473.', 'p.AKT.Thr308.','p.AMPK','p.BTK','p.CREB','p.ERK','p.FAK','p.GSK3b','p.H3','p.HER2_c','p.JNK','p.MAP2K3','p.MAPKAPK2','p.MEK','p.MKK3.MKK6','p.MKK4','p.NFkB','p.p38','p.p53','p.p90RSK','p.PDPK1','p.PLCg2_c','p.RB','p.S6','p.S6K','p.SMAD23','p.SRC','p.STAT1','p.STAT3','p.STAT5']"
   ]
  },
  {
   "cell_type": "code",
   "execution_count": null,
   "metadata": {},
   "outputs": [],
   "source": [
    "model = MultiOutputRegressor(RandomForestRegressor(n_jobs=-1,\n",
    "                                                       random_state=101,\n",
    "                                                       n_estimators=5000,\n",
    "                                                       criterion='mae',verbose=2))"
   ]
  },
  {
   "cell_type": "code",
   "execution_count": null,
   "metadata": {},
   "outputs": [],
   "source": [
    "print (\"split\")\n",
    "X_train, X_test, y_train, y_test = train_test_split(scaled_data,df,test_size=0.33, random_state=101)"
   ]
  },
  {
   "cell_type": "code",
   "execution_count": null,
   "metadata": {},
   "outputs": [],
   "source": [
    "model.fit(X_train, y_train)"
   ]
  },
  {
   "cell_type": "code",
   "execution_count": null,
   "metadata": {},
   "outputs": [],
   "source": [
    "predictions = model.predict(X_test)\n",
    "print (\"R^2:\",r2_score(y_test, predictions))\n",
    "print (\"MAE:\",mean_absolute_error(y_test, predictions))\n",
    "print (\"MSE:\",mean_squared_error(y_test, predictions))"
   ]
  },
  {
   "cell_type": "code",
   "execution_count": null,
   "metadata": {},
   "outputs": [],
   "source": [
    "predictions = model.predict(df)"
   ]
  },
  {
   "cell_type": "code",
   "execution_count": null,
   "metadata": {},
   "outputs": [],
   "source": [
    "print (\"############################################\")"
   ]
  },
  {
   "cell_type": "code",
   "execution_count": null,
   "metadata": {},
   "outputs": [],
   "source": [
    "print (predictions)"
   ]
  }
 ],
 "metadata": {
  "kernelspec": {
   "display_name": "Python 3",
   "language": "python",
   "name": "python3"
  },
  "language_info": {
   "codemirror_mode": {
    "name": "ipython",
    "version": 3
   },
   "file_extension": ".py",
   "mimetype": "text/x-python",
   "name": "python",
   "nbconvert_exporter": "python",
   "pygments_lexer": "ipython3",
   "version": "3.6.9"
  }
 },
 "nbformat": 4,
 "nbformat_minor": 4
}
