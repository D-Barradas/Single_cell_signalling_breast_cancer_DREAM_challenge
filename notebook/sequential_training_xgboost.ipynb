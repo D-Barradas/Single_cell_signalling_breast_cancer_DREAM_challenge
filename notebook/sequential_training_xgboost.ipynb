{
 "cells": [
  {
   "cell_type": "code",
   "execution_count": 1,
   "metadata": {},
   "outputs": [],
   "source": [
    "import os, sys\n",
    "from dask import compute, persist\n",
    "from dask.distributed import Client, progress\n",
    "from dask.diagnostics import ProgressBar\n",
    "import dask.dataframe as dd\n",
    "from dask_ml.preprocessing import StandardScaler\n",
    "from dask_ml.model_selection import train_test_split #,KFold,RandomizedSearchCV, GridSearchCV #, RandomizedSearchCV\n",
    "import matplotlib.pyplot as plt\n",
    "import dask_xgboost as dxgb\n",
    "import xgboost as xgb\n",
    "import pandas as pd\n",
    "from sklearn.model_selection import KFold,RandomizedSearchCV , GridSearchCV\n",
    "from sklearn.metrics import mean_absolute_error,mean_squared_error,r2_score\n",
    "from sklearn.metrics import classification_report, confusion_matrix,accuracy_score,matthews_corrcoef\n",
    "import joblib\n",
    "import numpy as np\n"
   ]
  },
  {
   "cell_type": "code",
   "execution_count": 3,
   "metadata": {},
   "outputs": [],
   "source": [
    "# import dask_jobqueue\n",
    "# from dask_jobqueue import SLURMCluster\n",
    "# cluster = SLURMCluster(cores=32,\n",
    "#                        processes=16,\n",
    "#                        memory=\"128GB\",\n",
    "#                        walltime=\"24:00:00\",\n",
    "#                        queue=\"workq\",\n",
    "#                        interface=\"ipogif0\",\n",
    "\n",
    "#                        project=\"k1423\"\n",
    "#                       )\n",
    "# print(cluster.job_script())\n",
    "# cluster.scale(jobs=8)\n",
    "\n"
   ]
  },
  {
   "cell_type": "code",
   "execution_count": 4,
   "metadata": {},
   "outputs": [],
   "source": [
    "# client = Client(cluster)\n",
    "client = Client()"
   ]
  },
  {
   "cell_type": "code",
   "execution_count": 5,
   "metadata": {},
   "outputs": [
    {
     "name": "stdout",
     "output_type": "stream",
     "text": [
      "184B5.csv\n",
      "BT483.csv\n",
      "HCC1428.csv\n",
      "HCC1806.csv\n",
      "HCC202.csv\n",
      "Hs578T.csv\n",
      "MCF12A.csv\n",
      "MDAMB231.csv\n",
      "MDAMB468.csv\n",
      "SKBR3.csv\n",
      "UACC3199.csv\n",
      "ZR751.csv\n"
     ]
    }
   ],
   "source": [
    "df = []\n",
    "for x in os.listdir(\"data\"):\n",
    "    print (x)\n",
    "    df_temp = dd.read_csv(\"data/%s\"%(x) )  #,dtype=dtype)\n",
    "    df.append(df_temp)"
   ]
  },
  {
   "cell_type": "code",
   "execution_count": 6,
   "metadata": {},
   "outputs": [],
   "source": [
    "ddf = dd.concat(df,axis=0)"
   ]
  },
  {
   "cell_type": "code",
   "execution_count": 7,
   "metadata": {},
   "outputs": [
    {
     "name": "stdout",
     "output_type": "stream",
     "text": [
      "filling NA\n"
     ]
    }
   ],
   "source": [
    "print (\"filling NA\")\n",
    "# y = y.compute()\n",
    "with ProgressBar():\n",
    "    for m in [\"p.HER2\",\"p.PLCg2\"] :\n",
    "#         print (df[m])\n",
    "        \n",
    "        ddf[\"%s_c\"%(m)] =ddf[m].fillna(ddf[m].mean() )#, inplace=True )"
   ]
  },
  {
   "cell_type": "code",
   "execution_count": 8,
   "metadata": {},
   "outputs": [],
   "source": [
    "ddf = dd.get_dummies(ddf.categorize()).persist()"
   ]
  },
  {
   "cell_type": "code",
   "execution_count": 10,
   "metadata": {},
   "outputs": [],
   "source": [
    "ddf = ddf.drop([\"p.HER2\",\"p.PLCg2\",\"cellID\",\"fileID\"],axis=1)"
   ]
  },
  {
   "cell_type": "code",
   "execution_count": 11,
   "metadata": {},
   "outputs": [
    {
     "data": {
      "text/plain": [
       "Index(['time', 'b.CATENIN', 'cleavedCas', 'CyclinB', 'GAPDH', 'IdU', 'Ki.67',\n",
       "       'p.4EBP1', 'p.Akt.Ser473.', 'p.AKT.Thr308.', 'p.AMPK', 'p.BTK',\n",
       "       'p.CREB', 'p.ERK', 'p.FAK', 'p.GSK3b', 'p.H3', 'p.JNK', 'p.MAP2K3',\n",
       "       'p.MAPKAPK2', 'p.MEK', 'p.MKK3.MKK6', 'p.MKK4', 'p.NFkB', 'p.p38',\n",
       "       'p.p53', 'p.p90RSK', 'p.PDPK1', 'p.RB', 'p.S6', 'p.S6K', 'p.SMAD23',\n",
       "       'p.SRC', 'p.STAT1', 'p.STAT3', 'p.STAT5', 'p.HER2_c', 'p.PLCg2_c',\n",
       "       'treatment_EGF', 'treatment_full', 'treatment_iEGFR', 'treatment_iPI3K',\n",
       "       'treatment_iPKC', 'treatment_iMEK', 'cell_line_184B5',\n",
       "       'cell_line_BT483', 'cell_line_HCC1428', 'cell_line_HCC1806',\n",
       "       'cell_line_HCC202', 'cell_line_Hs578T', 'cell_line_MCF12A',\n",
       "       'cell_line_MDAMB231', 'cell_line_MDAMB468', 'cell_line_SKBR3',\n",
       "       'cell_line_UACC3199', 'cell_line_ZR751'],\n",
       "      dtype='object')"
      ]
     },
     "execution_count": 11,
     "metadata": {},
     "output_type": "execute_result"
    }
   ],
   "source": [
    "ddf.columns"
   ]
  },
  {
   "cell_type": "code",
   "execution_count": 25,
   "metadata": {},
   "outputs": [],
   "source": [
    "rounds = {}\n",
    "genes= ['b.CATENIN','cleavedCas','CyclinB','GAPDH','IdU','Ki.67','p.4EBP1','p.Akt.Ser473.', 'p.AKT.Thr308.',\n",
    "        'p.AMPK','p.BTK','p.CREB','p.ERK','p.FAK','p.GSK3b','p.H3','p.HER2_c','p.JNK','p.MAP2K3',\n",
    "        'p.MAPKAPK2','p.MEK','p.MKK3.MKK6','p.MKK4','p.NFkB','p.p38','p.p53','p.p90RSK','p.PDPK1',\n",
    "        'p.PLCg2_c','p.RB','p.S6','p.S6K','p.SMAD23','p.SRC','p.STAT1','p.STAT3','p.STAT5']\n",
    "\n",
    "for x in range(len (genes)):\n",
    "#     print (x)\n",
    "    my_list = ['b.CATENIN','cleavedCas','CyclinB','GAPDH','IdU','Ki.67','p.4EBP1','p.Akt.Ser473.',\n",
    "               'p.AKT.Thr308.','p.AMPK','p.BTK','p.CREB','p.ERK','p.FAK','p.GSK3b','p.H3','p.HER2_c','p.JNK',\n",
    "               'p.MAP2K3','p.MAPKAPK2','p.MEK',   'p.MKK3.MKK6','p.MKK4','p.NFkB','p.p38','p.p53','p.p90RSK',\n",
    "               'p.PDPK1','p.PLCg2_c','p.RB','p.S6','p.S6K','p.SMAD23','p.SRC','p.STAT1','p.STAT3','p.STAT5']\n",
    "\n",
    "    if x+1 <len (genes):\n",
    "#         my_list = genes \n",
    "#         print (x,genes[x], genes[x+1])\n",
    "        my_list.pop(x)\n",
    "#         my_list.pop(x)\n",
    "#         my_list.pop(x+1)\n",
    "#         print ( my_list )\n",
    "#         rounds[x] = { \"test\":[genes[x], genes[x+1]] , \"train\":my_list}\n",
    "        rounds[x] = { \"test\":[genes[x] ], \"train\":my_list}\n",
    "#         y = df[[genes[x], genes[x+1]]]"
   ]
  },
  {
   "cell_type": "code",
   "execution_count": 26,
   "metadata": {},
   "outputs": [
    {
     "data": {
      "text/plain": [
       "{'test': ['b.CATENIN'],\n",
       " 'train': ['cleavedCas',\n",
       "  'CyclinB',\n",
       "  'GAPDH',\n",
       "  'IdU',\n",
       "  'Ki.67',\n",
       "  'p.4EBP1',\n",
       "  'p.Akt.Ser473.',\n",
       "  'p.AKT.Thr308.',\n",
       "  'p.AMPK',\n",
       "  'p.BTK',\n",
       "  'p.CREB',\n",
       "  'p.ERK',\n",
       "  'p.FAK',\n",
       "  'p.GSK3b',\n",
       "  'p.H3',\n",
       "  'p.HER2_c',\n",
       "  'p.JNK',\n",
       "  'p.MAP2K3',\n",
       "  'p.MAPKAPK2',\n",
       "  'p.MEK',\n",
       "  'p.MKK3.MKK6',\n",
       "  'p.MKK4',\n",
       "  'p.NFkB',\n",
       "  'p.p38',\n",
       "  'p.p53',\n",
       "  'p.p90RSK',\n",
       "  'p.PDPK1',\n",
       "  'p.PLCg2_c',\n",
       "  'p.RB',\n",
       "  'p.S6',\n",
       "  'p.S6K',\n",
       "  'p.SMAD23',\n",
       "  'p.SRC',\n",
       "  'p.STAT1',\n",
       "  'p.STAT3',\n",
       "  'p.STAT5']}"
      ]
     },
     "execution_count": 26,
     "metadata": {},
     "output_type": "execute_result"
    }
   ],
   "source": [
    "# rounds[0]"
   ]
  },
  {
   "cell_type": "code",
   "execution_count": 28,
   "metadata": {},
   "outputs": [],
   "source": [
    "feats=  ['time','treatment_EGF', 'treatment_full', 'treatment_iEGFR', 'treatment_iPI3K','treatment_iPKC', 'treatment_iMEK']\n",
    "\n",
    "for k in  rounds :\n",
    "    for ff in feats: \n",
    "        rounds[k][\"train\"].append(ff)\n",
    "        "
   ]
  },
  {
   "cell_type": "code",
   "execution_count": 34,
   "metadata": {},
   "outputs": [
    {
     "ename": "TypeError",
     "evalue": "'int' object is not iterable",
     "output_type": "error",
     "traceback": [
      "\u001b[0;31m---------------------------------------------------------------------------\u001b[0m",
      "\u001b[0;31mTypeError\u001b[0m                                 Traceback (most recent call last)",
      "\u001b[0;32m<ipython-input-34-052d211473a0>\u001b[0m in \u001b[0;36m<module>\u001b[0;34m\u001b[0m\n\u001b[0;32m----> 1\u001b[0;31m \u001b[0;32mfor\u001b[0m \u001b[0mk\u001b[0m\u001b[0;34m,\u001b[0m\u001b[0mn\u001b[0m \u001b[0;32min\u001b[0m  \u001b[0mrounds\u001b[0m \u001b[0;34m:\u001b[0m\u001b[0;34m\u001b[0m\u001b[0;34m\u001b[0m\u001b[0m\n\u001b[0m\u001b[1;32m      2\u001b[0m     \u001b[0mprint\u001b[0m \u001b[0;34m(\u001b[0m\u001b[0mk\u001b[0m\u001b[0;34m,\u001b[0m\u001b[0mn\u001b[0m\u001b[0;34m)\u001b[0m\u001b[0;34m\u001b[0m\u001b[0;34m\u001b[0m\u001b[0m\n",
      "\u001b[0;31mTypeError\u001b[0m: 'int' object is not iterable"
     ]
    }
   ],
   "source": [
    "random_grid = {\n",
    "   'colsample_bytree':[0.4,0.6,0.8],\n",
    "   'gamma':[0,0.03,0.1,0.3],\n",
    "   'min_child_weight':[1.5,6,10],\n",
    "   'learning_rate':[0.1,0.07],\n",
    "   'max_depth':[3,5],\n",
    "   'n_estimators':[1000,5000],\n",
    "   'reg_alpha':[1e-5, 1e-2,  0.75],\n",
    "   'reg_lambda':[1e-5, 1e-2, 0.45],\n",
    "   'subsample':[0.6,0.95]  \n",
    "}"
   ]
  },
  {
   "cell_type": "code",
   "execution_count": null,
   "metadata": {},
   "outputs": [],
   "source": [
    "cv = KFold(2, shuffle=True)"
   ]
  },
  {
   "cell_type": "code",
   "execution_count": 35,
   "metadata": {},
   "outputs": [
    {
     "name": "stdout",
     "output_type": "stream",
     "text": [
      "scaling\n",
      "scaling\n",
      "scaling\n",
      "scaling\n",
      "scaling\n",
      "scaling\n",
      "scaling\n",
      "scaling\n",
      "scaling\n",
      "scaling\n",
      "scaling\n",
      "scaling\n",
      "scaling\n",
      "scaling\n",
      "scaling\n",
      "scaling\n",
      "scaling\n",
      "scaling\n",
      "scaling\n",
      "scaling\n",
      "scaling\n",
      "scaling\n",
      "scaling\n",
      "scaling\n",
      "scaling\n",
      "scaling\n",
      "scaling\n",
      "scaling\n",
      "scaling\n",
      "scaling\n",
      "scaling\n",
      "scaling\n",
      "scaling\n",
      "scaling\n",
      "scaling\n",
      "scaling\n",
      "CPU times: user 17.3 s, sys: 1.58 s, total: 18.8 s\n",
      "Wall time: 57.8 s\n"
     ]
    }
   ],
   "source": [
    "# %%time\n",
    "for k in  rounds :\n",
    "    X = ddf[rounds[k][\"train\"]]\n",
    "    y = ddf[rounds[k][\"test\"]]\n",
    "\n",
    "    print (\"model\")\n",
    "    model = dxgb.XGBRegressor(objective='reg:squarederror',verbosity=3,n_jobs=-1,n_estimators=100)\n",
    "    \n",
    "    X = X.to_dask_array(lengths=True)\n",
    "    y = y.to_dask_array(lengths=True)\n",
    "\n",
    "    print (\"split\")\n",
    "    X_train, X_test, y_train, y_test = train_test_split(scaled_data,y,test_size=0.3, random_state=101)\n",
    "    \n",
    "        \n",
    "    print (\"scaling\")\n",
    "    scaler = StandardScaler()\n",
    "    scaler.fit(X_train)\n",
    "    X_train = scaler.transform(X_train)\n",
    "    X_test = scaler.transform(X_test)\n",
    "    \n",
    "    rf_random = RandomizedSearchCV(estimator = base_model, \n",
    "                               param_distributions = random_grid, \n",
    "                               n_iter = 1, cv = cv, \n",
    "                               verbose=2, \n",
    "                               random_state=101, n_jobs = -1)\n",
    "    \n",
    "    print (\"training\")\n",
    "    with joblib.parallel_backend('dask'):\n",
    "#         model.fit(X, y.flatten())\n",
    "        rf_random.fit(X_train,y_train.flatten())\n",
    "#     model.save_model('%s.model'%(rounds[k]))\n",
    "\n",
    "    print (\"##### best score \")\n",
    "    rf_random.best_score_\n",
    "    print (\"##### best estimator \")\n",
    "    rf_random.best_estimator_\n",
    "\n",
    "    \n",
    "    predictions = rf_random.predict( X_test)\n",
    "    predictions = client.persist(predictions)\n",
    "#     predictions\n",
    "    \n",
    "    \n",
    "    \n",
    "    print (k,rounds[k][\"test\"],\"##################################\")\n",
    "    print (\"R^2:\",r2_score(y_test.compute(), predictions.compute()))\n",
    "    print (\"MAE:\",mean_absolute_error(y_test.compute(), predictions.compute()))\n",
    "    print (\"MSE:\",mean_squared_error(y_test.compute(), predictions.compute()))\n",
    "    \n",
    "    print()"
   ]
  },
  {
   "cell_type": "code",
   "execution_count": null,
   "metadata": {},
   "outputs": [],
   "source": []
  }
 ],
 "metadata": {
  "kernelspec": {
   "display_name": "Python 3",
   "language": "python",
   "name": "python3"
  },
  "language_info": {
   "codemirror_mode": {
    "name": "ipython",
    "version": 3
   },
   "file_extension": ".py",
   "mimetype": "text/x-python",
   "name": "python",
   "nbconvert_exporter": "python",
   "pygments_lexer": "ipython3",
   "version": "3.6.9"
  }
 },
 "nbformat": 4,
 "nbformat_minor": 4
}
