{
 "cells": [
  {
   "cell_type": "code",
   "execution_count": 1,
   "metadata": {},
   "outputs": [],
   "source": [
    "# %load Hyperparameters_RF_Cr_val_Dask_v1.py\n",
    "#!/usr/bin/env python\n",
    "\n",
    "# In[1]:\n",
    "\n",
    "\n",
    "import os, sys\n",
    "from dask import compute, persist\n",
    "from dask.distributed import Client, progress\n",
    "from dask.diagnostics import ProgressBar\n",
    "import dask.dataframe as dd\n",
    "from dask_ml.preprocessing import StandardScaler\n",
    "from dask_ml.model_selection import train_test_split# ,KFold,RandomizedSearchCV, GridSearchCV, HyperbandSearchCV #, RandomizedSearchCV\n",
    "import matplotlib.pyplot as plt\n",
    "import dask_xgboost as dxgb\n",
    "import xgboost as xgb\n",
    "import pandas as pd\n",
    "from sklearn.ensemble import RandomForestClassifier,RandomForestRegressor\n",
    "from sklearn.model_selection import KFold,RandomizedSearchCV , GridSearchCV\n",
    "from sklearn.metrics import mean_absolute_error,mean_squared_error,r2_score\n",
    "from sklearn.metrics import classification_report, confusion_matrix,accuracy_score,matthews_corrcoef\n",
    "import joblib\n",
    "import numpy as np\n",
    "\n",
    "\n",
    "# In[2]:\n",
    "\n",
    "# import dask_jobqueue\n",
    "# from dask_jobqueue import SLURMCluster\n",
    "# cluster = SLURMCluster(cores=32,\n",
    "#                         processes=16,\n",
    "#                         memory=\"128GB\",\n",
    "#                         walltime=\"24:00:00\",\n",
    "#                         queue=\"workq\",\n",
    "#                         interface=\"ipogif0\",\n",
    "\n",
    "#                         project=\"k1423\"\n",
    "#                        )\n",
    "# print(cluster.job_script())\n",
    "# cluster.scale(jobs=16)\n",
    "\n",
    "# #cluster.adapt(minimum=4 , maximum=32 , wait_count=120)\n",
    "# # In[3]:\n",
    "\n",
    "\n",
    "# client = Client(cluster)\n",
    "#client = Client()\n",
    "\n",
    "\n",
    "# In[4]:\n",
    "df = []\n",
    "files = ['184B5.csv',\n",
    "'BT483.csv',\n",
    "'HCC1428.csv',\n",
    "'HCC1806.csv',\n",
    "'HCC202.csv',\n",
    "'Hs578T.csv',\n",
    "'MCF12A.csv',\n",
    "'MDAMB231.csv',\n",
    "'MDAMB468.csv',\n",
    "'SKBR3.csv',\n",
    "'UACC3199.csv',\n",
    "'ZR751.csv']\n",
    "# for x in os.listdir(\"data\"):\n",
    "#for x in files:i\n",
    "#    print (x)\n",
    "#    df_temp = dd.read_csv(\"data/%s\"%(x) )  #,dtype=dtype)\n",
    "#    df.append(df_temp)\n",
    "\n",
    "all_files = [x for x in os.listdir(\"data/EDITED_CELL_LINES_FILES_COMPLETE/\") if \".csv\" in x and x != \"subchallenge_1_template_data.csv\"  ]\n",
    "\n",
    "for m in all_files:\n",
    "##     print (x)\n",
    "    df_temp = dd.read_csv(\"data/EDITED_CELL_LINES_FILES_COMPLETE/%s\"%(m))\n",
    "    df_temp = df_temp.drop(['Unnamed: 0', 'Unnamed: 0.1'],axis=1)\n",
    "##     df_temp = dd.read_csv(\"data/%s\"%(x) )  #,dtype=dtype)\n",
    "    df.append(df_temp)\n",
    "\n",
    "#df = []\n",
    "for x in files : # os.listdir(\"data\"):\n",
    "#    print (x)\n",
    "    df_temp = dd.read_csv(\"data/%s\"%(x) )  #,dtype=dtype)\n",
    "    df.append(df_temp)\n",
    "\n",
    "\n",
    "# In[5]:\n",
    "genes_SubCh1 = ['p.ERK', 'p.Akt.Ser473.', 'p.S6', 'p.HER2', 'p.PLCg2']\n",
    "\n",
    "ddf = dd.concat(df,axis=0)\n",
    "\n",
    "subCh1=['AU565', 'EFM19', 'HCC2218', 'LY2', 'MACLS2', 'MDAMB436']\n",
    "\n",
    "subCh2=['184B5', 'BT483', 'HCC1428', 'HCC1806', 'HCC202', 'Hs578T',\n",
    "       'MCF12A', 'MDAMB231', 'MDAMB468', 'SKBR3', 'UACC3199', 'ZR751']\n",
    "\n",
    "\n",
    "subCh3=['BT20', 'BT474', 'BT549', 'CAL148', 'CAL51', 'CAL851', 'DU4475',\n",
    "       'EFM192A', 'EVSAT', 'HBL100', 'HCC1187', 'HCC1395', 'HCC1419',\n",
    "       'HCC1500', 'HCC1569', 'HCC1599', 'HCC1937', 'HCC1954', 'HCC2185',\n",
    "       'HCC3153', 'HCC38', 'HCC70', 'HDQP1', 'JIMT1', 'MCF7',\n",
    "       'MDAMB134VI', 'MDAMB157', 'MDAMB175VII', 'MDAMB361', 'MDAMB415',\n",
    "       'MDAMB453', 'MFM223', 'MPE600', 'MX1', 'OCUBM', 'T47D', 'UACC812',\n",
    "       'UACC893', 'ZR7530']\n",
    "\n",
    "# In[6]:\n",
    "train = ddf[~ddf[\"cell_line\"].isin(subCh2)]\n",
    "test = ddf[ddf[\"cell_line\"].isin(subCh2)]\n",
    "\n",
    "#ddf = ddf.drop([\"cell_line\"],axis=1)\n",
    "\n",
    "# print (\"filling NA\")\n",
    "# # y = y.compute()\n",
    "# with ProgressBar():\n",
    "#     for m in [\"p.HER2\",\"p.PLCg2\"] :\n",
    "# #         print (df[m])\n",
    "#          train[\"%s_c\"%(m)] =train[m].fillna(train[m].mean() )#, inplace=True )\n",
    "#          test[\"%s_c\"%(m)] =test[m].fillna(test[m].mean() )\n",
    "#  #       ddf[\"%s_c\"%(m)] =ddf[m].fillna(ddf[m].mean() )#, inplace=True )\n",
    "\n",
    "\n",
    "# In[7]:\n",
    "\n",
    "\n",
    "#ddf = dd.get_dummies(ddf.categorize()).persist()\n",
    "# train = dd.get_dummies(train.categorize()).persist()\n",
    "# test = dd.get_dummies(test.categorize()).persist()\n",
    "\n",
    "# In[8]:\n",
    "\n",
    "\n",
    "#ddf = ddf.drop([\"p.HER2\",\"p.PLCg2\",\"cellID\",\"fileID\"],axis=1)\n",
    "# train = train.drop([\"p.HER2\",\"p.PLCg2\",\"cellID\",\"fileID\"],axis=1)\n",
    "# test = test.drop([\"p.HER2\",\"p.PLCg2\",\"cellID\",\"fileID\"],axis=1)\n",
    "\n",
    "# print (len(test))\n"
   ]
  },
  {
   "cell_type": "code",
   "execution_count": null,
   "metadata": {},
   "outputs": [],
   "source": []
  },
  {
   "cell_type": "code",
   "execution_count": 2,
   "metadata": {},
   "outputs": [],
   "source": [
    "# train.shape,test.shape, len(test)"
   ]
  },
  {
   "cell_type": "code",
   "execution_count": 3,
   "metadata": {},
   "outputs": [],
   "source": [
    "test = test.compute()"
   ]
  },
  {
   "cell_type": "code",
   "execution_count": 4,
   "metadata": {},
   "outputs": [],
   "source": [
    "test.drop(genes_SubCh1,inplace=True,axis=1)"
   ]
  },
  {
   "cell_type": "code",
   "execution_count": 5,
   "metadata": {},
   "outputs": [],
   "source": [
    "# ddf = dd.read_csv(\"SubCh1/my_result_for_p.HER2_c_SubCh1/*\")"
   ]
  },
  {
   "cell_type": "code",
   "execution_count": 6,
   "metadata": {},
   "outputs": [],
   "source": [
    "# ddf = ddf.compute()"
   ]
  },
  {
   "cell_type": "code",
   "execution_count": 7,
   "metadata": {},
   "outputs": [
    {
     "name": "stdout",
     "output_type": "stream",
     "text": [
      "my_result_for_b.CATENIN_SubCh2\t    my_result_for_p.MAP2K3_SubCh2\n",
      "my_result_for_cleavedCas_SubCh2     my_result_for_p.MAPKAPK2_SubCh2\n",
      "my_result_for_CyclinB_SubCh2\t    my_result_for_p.MEK_SubCh2\n",
      "my_result_for_GAPDH_SubCh2\t    my_result_for_p.MKK3.MKK6_SubCh2\n",
      "my_result_for_IdU_SubCh2\t    my_result_for_p.MKK4_SubCh2\n",
      "my_result_for_Ki.67_SubCh2\t    my_result_for_p.NFkB_SubCh2\n",
      "my_result_for_p.4EBP1_SubCh2\t    my_result_for_p.p38_SubCh2\n",
      "my_result_for_p.Akt.Ser473._SubCh2  my_result_for_p.p53_SubCh2\n",
      "my_result_for_p.AKT.Thr308._SubCh2  my_result_for_p.p90RSK_SubCh2\n",
      "my_result_for_p.AMPK_SubCh2\t    my_result_for_p.PDPK1_SubCh2\n",
      "my_result_for_p.BTK_SubCh2\t    my_result_for_p.PLCg2_c_SubCh2\n",
      "my_result_for_p.CREB_SubCh2\t    my_result_for_p.RB_SubCh2\n",
      "my_result_for_p.ERK_SubCh2\t    my_result_for_p.S6K_SubCh2\n",
      "my_result_for_p.FAK_SubCh2\t    my_result_for_p.S6_SubCh2\n",
      "my_result_for_p.GSK3b_SubCh2\t    my_result_for_p.SMAD23_SubCh2\n",
      "my_result_for_p.H3_SubCh2\t    my_result_for_p.SRC_SubCh2\n",
      "my_result_for_p.HER2_c_SubCh2\t    my_result_for_p.STAT1_SubCh2\n",
      "my_result_for_p.JNK_SubCh2\t    my_result_for_p.STAT3_SubCh2\n"
     ]
    }
   ],
   "source": [
    "!ls SubCh2/"
   ]
  },
  {
   "cell_type": "code",
   "execution_count": 8,
   "metadata": {},
   "outputs": [],
   "source": [
    "one = pd.DataFrame()\n",
    "# for m in ['p.ERK', 'p.Akt.Ser473.', 'p.S6', 'p.HER2_c', 'p.PLCg2_c']:\n",
    "for m in ['b.CATENIN', 'cleavedCas',\n",
    "       'CyclinB', 'GAPDH', 'IdU', 'Ki.67', 'p.4EBP1', 'p.Akt.Ser473.',\n",
    "       'p.AKT.Thr308.', 'p.AMPK', 'p.BTK', 'p.CREB', 'p.ERK', 'p.FAK',\n",
    "       'p.GSK3b', 'p.H3', 'p.JNK', 'p.MAP2K3', 'p.MAPKAPK2', 'p.MEK',\n",
    "       'p.MKK3.MKK6', 'p.MKK4', 'p.NFkB', 'p.p38', 'p.p53', 'p.p90RSK',\n",
    "       'p.PDPK1', 'p.RB', 'p.S6', 'p.S6K', 'p.SMAD23', 'p.SRC', 'p.STAT1',\n",
    "       'p.STAT3','p.HER2_c']:\n",
    "    ddf = dd.read_csv(\"SubCh1/my_result_for_%s_SubCh1/*\"%(m))\n",
    "    ddf = ddf.compute()\n",
    "    ddf.drop(\"Unnamed: 0\",axis=1,inplace=True)\n",
    "    one = pd.concat([one,ddf] , axis=1)"
   ]
  },
  {
   "cell_type": "code",
   "execution_count": 9,
   "metadata": {},
   "outputs": [],
   "source": [
    "test = pd.concat([test,one] , axis=1)"
   ]
  },
  {
   "cell_type": "code",
   "execution_count": 12,
   "metadata": {},
   "outputs": [
    {
     "data": {
      "text/plain": [
       "Index(['cell_line', 'time', 'cellID', 'fileID', 'b.CATENIN', 'cleavedCas',\n",
       "       'CyclinB', 'GAPDH', 'IdU', 'Ki.67', 'p.4EBP1', 'p.AKT.Thr308.',\n",
       "       'p.AMPK', 'p.BTK', 'p.CREB', 'p.FAK', 'p.GSK3b', 'p.H3', 'p.JNK',\n",
       "       'p.MAP2K3', 'p.MAPKAPK2', 'p.MEK', 'p.MKK3.MKK6', 'p.MKK4', 'p.NFkB',\n",
       "       'p.p38', 'p.p53', 'p.p90RSK', 'p.PDPK1', 'p.RB', 'p.S6K', 'p.SMAD23',\n",
       "       'p.SRC', 'p.STAT1', 'p.STAT3', 'p.STAT5', 'treatment', 'b.CATENIN',\n",
       "       'cleavedCas', 'CyclinB', 'GAPDH', 'IdU', 'Ki.67', 'p.4EBP1',\n",
       "       'p.Akt.Ser473.', 'p.AKT.Thr308.', 'p.AMPK', 'p.BTK', 'p.CREB', 'p.ERK',\n",
       "       'p.FAK', 'p.GSK3b', 'p.H3', 'p.JNK', 'p.MAP2K3', 'p.MAPKAPK2', 'p.MEK',\n",
       "       'p.MKK3.MKK6', 'p.MKK4', 'p.NFkB', 'p.p38', 'p.p53', 'p.p90RSK',\n",
       "       'p.PDPK1', 'p.RB', 'p.S6', 'p.S6K', 'p.SMAD23', 'p.SRC', 'p.STAT1',\n",
       "       'p.STAT3'],\n",
       "      dtype='object')"
      ]
     },
     "execution_count": 12,
     "metadata": {},
     "output_type": "execute_result"
    }
   ],
   "source": [
    "test.columns\n",
    "# test.drop(\"Unnamed: 0\",axis=1,inplace=True)"
   ]
  },
  {
   "cell_type": "code",
   "execution_count": null,
   "metadata": {},
   "outputs": [],
   "source": [
    "# test = test.rename(columns={\"p.HER2_c\": \"p.HER2\",\"p.PLCg2_c\":\"p.PLCg2\"})"
   ]
  },
  {
   "cell_type": "code",
   "execution_count": null,
   "metadata": {},
   "outputs": [],
   "source": [
    "# test.to_csv(\"subchallenge_1_results_data.csv\")"
   ]
  },
  {
   "cell_type": "code",
   "execution_count": 13,
   "metadata": {},
   "outputs": [],
   "source": [
    "to_fill = pd.read_csv(\"models_templates/subchallenge_1_template_data.csv\")"
   ]
  },
  {
   "cell_type": "code",
   "execution_count": 14,
   "metadata": {},
   "outputs": [
    {
     "data": {
      "text/plain": [
       "Index(['cell_line', 'treatment', 'time', 'cellID', 'b.CATENIN', 'cleavedCas',\n",
       "       'CyclinB', 'GAPDH', 'IdU', 'Ki.67', 'p.4EBP1', 'p.Akt.Ser473.',\n",
       "       'p.AKT.Thr308.', 'p.AMPK', 'p.BTK', 'p.CREB', 'p.ERK', 'p.FAK',\n",
       "       'p.GSK3b', 'p.H3', 'p.JNK', 'p.MAP2K3', 'p.MAPKAPK2', 'p.MEK',\n",
       "       'p.MKK3.MKK6', 'p.MKK4', 'p.NFkB', 'p.p38', 'p.p53', 'p.p90RSK',\n",
       "       'p.PDPK1', 'p.RB', 'p.S6', 'p.S6K', 'p.SMAD23', 'p.SRC', 'p.STAT1',\n",
       "       'p.STAT3', 'p.STAT5'],\n",
       "      dtype='object')"
      ]
     },
     "execution_count": 14,
     "metadata": {},
     "output_type": "execute_result"
    }
   ],
   "source": [
    "to_fill.columns"
   ]
  },
  {
   "cell_type": "code",
   "execution_count": 30,
   "metadata": {},
   "outputs": [],
   "source": [
    "to_fill.drop (['b.CATENIN', 'cleavedCas',\n",
    "       'CyclinB', 'GAPDH', 'IdU', 'Ki.67', 'p.4EBP1', 'p.Akt.Ser473.',\n",
    "       'p.AKT.Thr308.', 'p.AMPK', 'p.BTK', 'p.CREB', 'p.ERK', 'p.FAK',\n",
    "       'p.GSK3b', 'p.H3', 'p.JNK', 'p.MAP2K3', 'p.MAPKAPK2', 'p.MEK',\n",
    "       'p.MKK3.MKK6', 'p.MKK4', 'p.NFkB', 'p.p38', 'p.p53', 'p.p90RSK',\n",
    "       'p.PDPK1', 'p.RB', 'p.S6', 'p.S6K', 'p.SMAD23', 'p.SRC', 'p.STAT1',\n",
    "       'p.STAT3', 'p.STAT5'] ,axis=1 , inplace=True)"
   ]
  },
  {
   "cell_type": "code",
   "execution_count": 31,
   "metadata": {},
   "outputs": [
    {
     "name": "stderr",
     "output_type": "stream",
     "text": [
      "/lustre/project/k1423/ML-dask-scypy/lib/python3.6/site-packages/pandas/core/reshape/merge.py:1100: UserWarning: You are merging on int and float columns where the float values are not equal to their int representation\n",
      "  UserWarning,\n"
     ]
    }
   ],
   "source": [
    "# my_cols = [\"cell_line\", \"treatment\", \"time\", \"cellID\", \"fileID\"]\n",
    "df_outer = pd.merge(to_fill, test, on=['cell_line', 'treatment', 'time', 'cellID'], how='outer')"
   ]
  },
  {
   "cell_type": "code",
   "execution_count": 32,
   "metadata": {},
   "outputs": [
    {
     "data": {
      "text/plain": [
       "((7264134, 71), (830000, 4))"
      ]
     },
     "execution_count": 32,
     "metadata": {},
     "output_type": "execute_result"
    }
   ],
   "source": [
    "df_outer.shape, to_fill.shape"
   ]
  },
  {
   "cell_type": "code",
   "execution_count": 33,
   "metadata": {},
   "outputs": [
    {
     "name": "stdout",
     "output_type": "stream",
     "text": [
      "cell_line treatment time cellID fileID b.CATENIN cleavedCas CyclinB GAPDH IdU Ki.67 p.4EBP1 p.AKT.Thr308. p.AMPK p.BTK p.CREB p.FAK p.GSK3b p.H3 p.JNK p.MAP2K3 p.MAPKAPK2 p.MEK p.MKK3.MKK6 p.MKK4 p.NFkB p.p38 p.p53 p.p90RSK p.PDPK1 p.RB p.S6K p.SMAD23 p.SRC p.STAT1 p.STAT3 p.STAT5 b.CATENIN cleavedCas CyclinB GAPDH IdU Ki.67 p.4EBP1 p.Akt.Ser473. p.AKT.Thr308. p.AMPK p.BTK p.CREB p.ERK p.FAK p.GSK3b p.H3 p.JNK p.MAP2K3 p.MAPKAPK2 p.MEK p.MKK3.MKK6 p.MKK4 p.NFkB p.p38 p.p53 p.p90RSK p.PDPK1 p.RB p.S6 p.S6K p.SMAD23 p.SRC p.STAT1 p.STAT3 "
     ]
    }
   ],
   "source": [
    "for c in df_outer.columns:\n",
    "    print (c , end=\" \")"
   ]
  },
  {
   "cell_type": "code",
   "execution_count": 34,
   "metadata": {},
   "outputs": [
    {
     "data": {
      "text/plain": [
       "((7264134, 71), (830000, 4))"
      ]
     },
     "execution_count": 34,
     "metadata": {},
     "output_type": "execute_result"
    }
   ],
   "source": [
    "df_outer.shape, to_fill.shape"
   ]
  },
  {
   "cell_type": "code",
   "execution_count": 36,
   "metadata": {},
   "outputs": [
    {
     "data": {
      "text/plain": [
       "array(['iMEK', 'iEGFR', 'iPKC', 'iPI3K'], dtype=object)"
      ]
     },
     "execution_count": 36,
     "metadata": {},
     "output_type": "execute_result"
    }
   ],
   "source": [
    "to_fill.treatment.unique()"
   ]
  },
  {
   "cell_type": "code",
   "execution_count": 37,
   "metadata": {},
   "outputs": [
    {
     "data": {
      "text/html": [
       "<div>\n",
       "<style scoped>\n",
       "    .dataframe tbody tr th:only-of-type {\n",
       "        vertical-align: middle;\n",
       "    }\n",
       "\n",
       "    .dataframe tbody tr th {\n",
       "        vertical-align: top;\n",
       "    }\n",
       "\n",
       "    .dataframe thead th {\n",
       "        text-align: right;\n",
       "    }\n",
       "</style>\n",
       "<table border=\"1\" class=\"dataframe\">\n",
       "  <thead>\n",
       "    <tr style=\"text-align: right;\">\n",
       "      <th></th>\n",
       "      <th>cell_line</th>\n",
       "      <th>treatment</th>\n",
       "      <th>time</th>\n",
       "      <th>cellID</th>\n",
       "      <th>fileID</th>\n",
       "      <th>b.CATENIN</th>\n",
       "      <th>cleavedCas</th>\n",
       "      <th>CyclinB</th>\n",
       "      <th>GAPDH</th>\n",
       "      <th>IdU</th>\n",
       "      <th>...</th>\n",
       "      <th>p.p53</th>\n",
       "      <th>p.p90RSK</th>\n",
       "      <th>p.PDPK1</th>\n",
       "      <th>p.RB</th>\n",
       "      <th>p.S6</th>\n",
       "      <th>p.S6K</th>\n",
       "      <th>p.SMAD23</th>\n",
       "      <th>p.SRC</th>\n",
       "      <th>p.STAT1</th>\n",
       "      <th>p.STAT3</th>\n",
       "    </tr>\n",
       "  </thead>\n",
       "  <tbody>\n",
       "    <tr>\n",
       "      <th>7264129</th>\n",
       "      <td>MCF12A</td>\n",
       "      <td>iPKC</td>\n",
       "      <td>60.0</td>\n",
       "      <td>7756</td>\n",
       "      <td>3809.0</td>\n",
       "      <td>0.796624</td>\n",
       "      <td>2.990397</td>\n",
       "      <td>1.710614</td>\n",
       "      <td>2.633207</td>\n",
       "      <td>4.36651</td>\n",
       "      <td>...</td>\n",
       "      <td>2.14467</td>\n",
       "      <td>3.03672</td>\n",
       "      <td>1.93146</td>\n",
       "      <td>3.66294</td>\n",
       "      <td>0.5</td>\n",
       "      <td>2.21769</td>\n",
       "      <td>1.86203</td>\n",
       "      <td>2.59184</td>\n",
       "      <td>3.06905</td>\n",
       "      <td>1.99407</td>\n",
       "    </tr>\n",
       "    <tr>\n",
       "      <th>7264130</th>\n",
       "      <td>MCF12A</td>\n",
       "      <td>iPKC</td>\n",
       "      <td>60.0</td>\n",
       "      <td>7757</td>\n",
       "      <td>3809.0</td>\n",
       "      <td>0.796624</td>\n",
       "      <td>3.365566</td>\n",
       "      <td>0.733187</td>\n",
       "      <td>2.231758</td>\n",
       "      <td>6.86446</td>\n",
       "      <td>...</td>\n",
       "      <td>2.27387</td>\n",
       "      <td>3.83909</td>\n",
       "      <td>1.80609</td>\n",
       "      <td>3.81081</td>\n",
       "      <td>0.5</td>\n",
       "      <td>2.07707</td>\n",
       "      <td>1.83246</td>\n",
       "      <td>3.22198</td>\n",
       "      <td>3.05579</td>\n",
       "      <td>1.95276</td>\n",
       "    </tr>\n",
       "    <tr>\n",
       "      <th>7264131</th>\n",
       "      <td>MCF12A</td>\n",
       "      <td>iPKC</td>\n",
       "      <td>60.0</td>\n",
       "      <td>7758</td>\n",
       "      <td>3809.0</td>\n",
       "      <td>0.796624</td>\n",
       "      <td>3.190259</td>\n",
       "      <td>1.234192</td>\n",
       "      <td>2.410313</td>\n",
       "      <td>4.36651</td>\n",
       "      <td>...</td>\n",
       "      <td>2.43551</td>\n",
       "      <td>2.93508</td>\n",
       "      <td>1.73571</td>\n",
       "      <td>3.4925</td>\n",
       "      <td>0.5</td>\n",
       "      <td>2.19222</td>\n",
       "      <td>1.73519</td>\n",
       "      <td>2.46943</td>\n",
       "      <td>2.82464</td>\n",
       "      <td>1.88601</td>\n",
       "    </tr>\n",
       "    <tr>\n",
       "      <th>7264132</th>\n",
       "      <td>MCF12A</td>\n",
       "      <td>iPKC</td>\n",
       "      <td>60.0</td>\n",
       "      <td>7759</td>\n",
       "      <td>3809.0</td>\n",
       "      <td>1.823292</td>\n",
       "      <td>3.056672</td>\n",
       "      <td>2.044878</td>\n",
       "      <td>2.548545</td>\n",
       "      <td>4.36651</td>\n",
       "      <td>...</td>\n",
       "      <td>2.56251</td>\n",
       "      <td>3.65864</td>\n",
       "      <td>2.05532</td>\n",
       "      <td>3.65372</td>\n",
       "      <td>0.5</td>\n",
       "      <td>2.09527</td>\n",
       "      <td>2.01902</td>\n",
       "      <td>3.23114</td>\n",
       "      <td>3.06923</td>\n",
       "      <td>2.1792</td>\n",
       "    </tr>\n",
       "    <tr>\n",
       "      <th>7264133</th>\n",
       "      <td>MCF12A</td>\n",
       "      <td>iPKC</td>\n",
       "      <td>60.0</td>\n",
       "      <td>7760</td>\n",
       "      <td>3809.0</td>\n",
       "      <td>0.796624</td>\n",
       "      <td>7.297344</td>\n",
       "      <td>0.733187</td>\n",
       "      <td>1.756161</td>\n",
       "      <td>6.44268</td>\n",
       "      <td>...</td>\n",
       "      <td>2.63835</td>\n",
       "      <td>2.15026</td>\n",
       "      <td>1.07821</td>\n",
       "      <td>3.13621</td>\n",
       "      <td>0.5</td>\n",
       "      <td>1.09969</td>\n",
       "      <td>1.36982</td>\n",
       "      <td>1.15469</td>\n",
       "      <td>1.92396</td>\n",
       "      <td>1.07797</td>\n",
       "    </tr>\n",
       "  </tbody>\n",
       "</table>\n",
       "<p>5 rows × 71 columns</p>\n",
       "</div>"
      ],
      "text/plain": [
       "        cell_line treatment  time  cellID  fileID  b.CATENIN  cleavedCas  \\\n",
       "7264129    MCF12A      iPKC  60.0    7756  3809.0   0.796624    2.990397   \n",
       "7264130    MCF12A      iPKC  60.0    7757  3809.0   0.796624    3.365566   \n",
       "7264131    MCF12A      iPKC  60.0    7758  3809.0   0.796624    3.190259   \n",
       "7264132    MCF12A      iPKC  60.0    7759  3809.0   1.823292    3.056672   \n",
       "7264133    MCF12A      iPKC  60.0    7760  3809.0   0.796624    7.297344   \n",
       "\n",
       "          CyclinB     GAPDH      IdU  ...    p.p53  p.p90RSK  p.PDPK1  \\\n",
       "7264129  1.710614  2.633207  4.36651  ...  2.14467   3.03672  1.93146   \n",
       "7264130  0.733187  2.231758  6.86446  ...  2.27387   3.83909  1.80609   \n",
       "7264131  1.234192  2.410313  4.36651  ...  2.43551   2.93508  1.73571   \n",
       "7264132  2.044878  2.548545  4.36651  ...  2.56251   3.65864  2.05532   \n",
       "7264133  0.733187  1.756161  6.44268  ...  2.63835   2.15026  1.07821   \n",
       "\n",
       "            p.RB  p.S6    p.S6K  p.SMAD23    p.SRC  p.STAT1  p.STAT3  \n",
       "7264129  3.66294   0.5  2.21769   1.86203  2.59184  3.06905  1.99407  \n",
       "7264130  3.81081   0.5  2.07707   1.83246  3.22198  3.05579  1.95276  \n",
       "7264131   3.4925   0.5  2.19222   1.73519  2.46943  2.82464  1.88601  \n",
       "7264132  3.65372   0.5  2.09527   2.01902  3.23114  3.06923   2.1792  \n",
       "7264133  3.13621   0.5  1.09969   1.36982  1.15469  1.92396  1.07797  \n",
       "\n",
       "[5 rows x 71 columns]"
      ]
     },
     "execution_count": 37,
     "metadata": {},
     "output_type": "execute_result"
    }
   ],
   "source": [
    "df_outer.tail()"
   ]
  },
  {
   "cell_type": "code",
   "execution_count": null,
   "metadata": {},
   "outputs": [],
   "source": [
    "2383058- 1826812"
   ]
  },
  {
   "cell_type": "code",
   "execution_count": null,
   "metadata": {},
   "outputs": [],
   "source": [
    "test.columns"
   ]
  },
  {
   "cell_type": "code",
   "execution_count": null,
   "metadata": {},
   "outputs": [],
   "source": [
    "to_fill.columns"
   ]
  },
  {
   "cell_type": "code",
   "execution_count": null,
   "metadata": {},
   "outputs": [],
   "source": [
    "f.columns, g.columns"
   ]
  },
  {
   "cell_type": "code",
   "execution_count": null,
   "metadata": {},
   "outputs": [],
   "source": [
    "f.head(), g.head()"
   ]
  },
  {
   "cell_type": "code",
   "execution_count": null,
   "metadata": {},
   "outputs": [],
   "source": [
    "g.info()"
   ]
  },
  {
   "cell_type": "code",
   "execution_count": null,
   "metadata": {},
   "outputs": [],
   "source": [
    "f.info()"
   ]
  },
  {
   "cell_type": "code",
   "execution_count": null,
   "metadata": {},
   "outputs": [],
   "source": [
    "g.sort_values(by=[ \"cell_line\", \"treatment\",  \"time\" , \"cellID\"],inplace=True)"
   ]
  },
  {
   "cell_type": "code",
   "execution_count": null,
   "metadata": {},
   "outputs": [],
   "source": [
    "f.sort_values(by=[ \"cell_line\", \"treatment\",  \"time\" , \"cellID\"],inplace=True)"
   ]
  },
  {
   "cell_type": "code",
   "execution_count": null,
   "metadata": {},
   "outputs": [],
   "source": [
    "# f.merge(g,indicator = True, how='left').loc[lambda x : x['_merge']!='both']"
   ]
  },
  {
   "cell_type": "code",
   "execution_count": null,
   "metadata": {},
   "outputs": [],
   "source": [
    "# pd.merge(f,g, indicator=True, how='left'  ).loc[lambda x : x['_merge']!='both']"
   ]
  },
  {
   "cell_type": "code",
   "execution_count": null,
   "metadata": {},
   "outputs": [],
   "source": [
    "2383058 - 1349199"
   ]
  },
  {
   "cell_type": "code",
   "execution_count": null,
   "metadata": {},
   "outputs": [],
   "source": [
    "type(f)"
   ]
  },
  {
   "cell_type": "code",
   "execution_count": null,
   "metadata": {},
   "outputs": [],
   "source": [
    "g[g[\"cell_line\"]==\"MDAMB436\"]"
   ]
  },
  {
   "cell_type": "code",
   "execution_count": null,
   "metadata": {},
   "outputs": [],
   "source": [
    "#Index=0, cell_line='AU565', treatment='EGF', time=0.0, cellID=1, fileID=59\n",
    "for x  in f[:10].itertuples() :\n",
    "    for y in g[:10].itertuples():\n",
    "        if x[1] ==  y[1] and x[2] ==y[2] and x[3] == y[3] and x[4] ==y[4]:\n",
    "            print (x,y )\n",
    "#         x[1],x[2],x[3],x[4]\n",
    "#         y[1],y[2],y[3],y[4]\n",
    "  "
   ]
  },
  {
   "cell_type": "code",
   "execution_count": null,
   "metadata": {},
   "outputs": [],
   "source": [
    "test.sort_values(by=[ \"cell_line\", \"treatment\",  \"time\" , \"cellID\"],inplace=True)\n",
    "to_fill.sort_values(by=[ \"cell_line\", \"treatment\",  \"time\" , \"cellID\"],inplace=True)"
   ]
  },
  {
   "cell_type": "code",
   "execution_count": null,
   "metadata": {},
   "outputs": [],
   "source": [
    "test.head(),to_fill.head()"
   ]
  },
  {
   "cell_type": "code",
   "execution_count": null,
   "metadata": {},
   "outputs": [],
   "source": [
    "test= test[['cell_line', 'treatment', 'time', 'cellID', 'fileID','p.ERK',\n",
    "             'p.Akt.Ser473.', 'p.S6', 'p.HER2', 'p.PLCg2']]"
   ]
  },
  {
   "cell_type": "code",
   "execution_count": null,
   "metadata": {},
   "outputs": [],
   "source": [
    "test.head()"
   ]
  },
  {
   "cell_type": "code",
   "execution_count": null,
   "metadata": {},
   "outputs": [],
   "source": [
    "for x in to_fill[:10].itertuples():\n",
    "#     for y in test[:10].itertuples():\n",
    "#         if x[3] ==  y[1] and x[4] ==y[2] and x[3] == y[2] and x[4] ==y[4]:\n",
    "#     print (x[2],x[3],x[4],x[5])\n",
    "    for y in test[:10].itertuples():\n",
    "#         print (y[1],y[2],y[3],y[4])\n",
    "        if x[2]==y[1] and x[3]==y[2] and x[4]==y[3] and x[5]==y[4]:\n",
    "            print (y[1:5],x[6],y[6:])"
   ]
  },
  {
   "cell_type": "code",
   "execution_count": null,
   "metadata": {},
   "outputs": [],
   "source": [
    "my_list = []\n",
    "for x in to_fill.itertuples():\n",
    "#     for y in test[:10].itertuples():\n",
    "#         if x[3] ==  y[1] and x[4] ==y[2] and x[3] == y[2] and x[4] ==y[4]:\n",
    "#     print (x[2],x[3],x[4],x[5])\n",
    "    for y in test.itertuples():\n",
    "#         print (y[1],y[2],y[3],y[4])\n",
    "        if x[2]==y[1] and x[3]==y[2] and x[4]==y[3] and x[5]==y[4]:\n",
    "#              print (y[1],y[2],y[3],y[4],x[6],y[6],y[7],y[8],y[9],y[10])\n",
    "             my_list.append((y[1],y[2],y[3],y[4],x[6],y[6],y[7],y[8],y[9],y[10]))\n",
    "#             print (y[1:5],x[6],y[6:])\n",
    "\n"
   ]
  },
  {
   "cell_type": "code",
   "execution_count": null,
   "metadata": {},
   "outputs": [],
   "source": [
    "submit_df = pd.DataFrame(my_list,columns=['cell_line', 'treatment', 'time', 'cellID', 'fileID','p.ERK',\n",
    "             'p.Akt.Ser473.', 'p.S6', 'p.HER2', 'p.PLCg2'])"
   ]
  },
  {
   "cell_type": "code",
   "execution_count": null,
   "metadata": {},
   "outputs": [],
   "source": [
    "submit_df.to_csv(\"subchallenge_1_results_data.csv\")"
   ]
  },
  {
   "cell_type": "code",
   "execution_count": null,
   "metadata": {},
   "outputs": [],
   "source": []
  }
 ],
 "metadata": {
  "kernelspec": {
   "display_name": "Python 2",
   "language": "python",
   "name": "python2"
  },
  "language_info": {
   "codemirror_mode": {
    "name": "ipython",
    "version": 2
   },
   "file_extension": ".py",
   "mimetype": "text/x-python",
   "name": "python",
   "nbconvert_exporter": "python",
   "pygments_lexer": "ipython2",
   "version": "2.7.14"
  }
 },
 "nbformat": 4,
 "nbformat_minor": 4
}
